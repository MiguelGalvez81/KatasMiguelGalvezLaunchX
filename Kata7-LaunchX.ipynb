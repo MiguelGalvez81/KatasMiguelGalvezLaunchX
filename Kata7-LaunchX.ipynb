{
 "cells": [
  {
   "cell_type": "markdown",
   "metadata": {},
   "source": [
    "# Estructuras de control"
   ]
  },
  {
   "cell_type": "code",
   "execution_count": 3,
   "metadata": {},
   "outputs": [
    {
     "name": "stdout",
     "output_type": "stream",
     "text": [
      "['MARTE', 'MERCURIO', 'SATURNO ']\n",
      "MARTE\n",
      "MERCURIO\n",
      "SATURNO \n"
     ]
    }
   ],
   "source": [
    "new_planet = \"\"\n",
    "planetas = []\n",
    "\n",
    "while new_planet.lower() != \"done\":\n",
    "    if new_planet:\n",
    "        planetas.append(new_planet)\n",
    "    new_planet = input(\"Ingresa un nuevo planeta\")\n",
    "print(planetas)\n",
    "\n",
    "for planeta in planetas:\n",
    "    print(planeta)    \n"
   ]
  }
 ],
 "metadata": {
  "interpreter": {
   "hash": "a48ef4588860d3d410a4961e4cc8aa9a88362f948f9b7d2a29a238d5a71f4012"
  },
  "kernelspec": {
   "display_name": "Python 3.10.2 64-bit (windows store)",
   "language": "python",
   "name": "python3"
  },
  "language_info": {
   "codemirror_mode": {
    "name": "ipython",
    "version": 3
   },
   "file_extension": ".py",
   "mimetype": "text/x-python",
   "name": "python",
   "nbconvert_exporter": "python",
   "pygments_lexer": "ipython3",
   "version": "3.10.2"
  },
  "orig_nbformat": 4
 },
 "nbformat": 4,
 "nbformat_minor": 2
}
