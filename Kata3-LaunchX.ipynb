{
 "cells": [
  {
   "cell_type": "markdown",
   "metadata": {},
   "source": [
    "# Test expression / expresión de prueba"
   ]
  },
  {
   "cell_type": "code",
   "execution_count": 6,
   "metadata": {},
   "outputs": [
    {
     "name": "stdout",
     "output_type": "stream",
     "text": [
      "¡Cuidado!, se acerca un asteroide a 49km/s\n"
     ]
    }
   ],
   "source": [
    "velocidad = 49\n",
    "limite = 20 \n",
    "if velocidad >= limite:\n",
    "    print(\"¡Cuidado!, se acerca un asteroide a \" + str(velocidad) + \"km/s\")\n",
    "else:\n",
    "    print(\"Es un día despejado\")"
   ]
  },
  {
   "cell_type": "code",
   "execution_count": 10,
   "metadata": {},
   "outputs": [
    {
     "name": "stdout",
     "output_type": "stream",
     "text": [
      "¡Peligro!, el rayo de luz que se ve en el cielo, es un asteroirde entrando a la tierra a  29km/s\n"
     ]
    }
   ],
   "source": [
    "velocidad = 29\n",
    "limite = 20 \n",
    "if velocidad >= limite:\n",
    "    print(\"¡Peligro!, el rayo de luz que se ve en el cielo, es un asteroirde entrando a la tierra a  \" + str(velocidad) + \"km/s\")\n",
    "else:\n",
    "    print(\"¡Cuidado!, se acerca un asteroide a \" + str(velocidad) + \"km/s\")"
   ]
  },
  {
   "cell_type": "code",
   "execution_count": 12,
   "metadata": {},
   "outputs": [
    {
     "name": "stdout",
     "output_type": "stream",
     "text": [
      "¡Peligro!, el rayo de luz que se ve en el cielo, es un asteroide de 40 mts entrando a la tierra a  25km/s\n"
     ]
    }
   ],
   "source": [
    "velocidad = 25\n",
    "tamanio = 40\n",
    "if velocidad > 25 and tamanio > 25:\n",
    "    print(\"¡Alerta, Un asteroide de \" + str(tamanio) + \" mts se aproxima a la Tierra!\")\n",
    "elif tamanio >= 20:\n",
    "    print(\"¡Peligro!, el rayo de luz que se ve en el cielo, es un asteroide de \" + str(tamanio) +\" mts entrando a la tierra a  \" + str(velocidad) + \"km/s\")\n",
    "elif tamanio < 25:\n",
    "    print(\"Se aproxima un asteroide de \" + str(tamanio) + \" mts. No es peligroso, disfruta el espectáculo\")\n",
    "else:\n",
    "    print(\"Es un día despejado\")"
   ]
  }
 ],
 "metadata": {
  "interpreter": {
   "hash": "a48ef4588860d3d410a4961e4cc8aa9a88362f948f9b7d2a29a238d5a71f4012"
  },
  "kernelspec": {
   "display_name": "Python 3.10.2 64-bit (windows store)",
   "language": "python",
   "name": "python3"
  },
  "language_info": {
   "codemirror_mode": {
    "name": "ipython",
    "version": 3
   },
   "file_extension": ".py",
   "mimetype": "text/x-python",
   "name": "python",
   "nbconvert_exporter": "python",
   "pygments_lexer": "ipython3",
   "version": "3.10.2"
  },
  "orig_nbformat": 4
 },
 "nbformat": 4,
 "nbformat_minor": 2
}
