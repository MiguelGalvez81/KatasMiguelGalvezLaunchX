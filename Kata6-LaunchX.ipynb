{
 "cells": [
  {
   "cell_type": "markdown",
   "metadata": {},
   "source": [
    "# Listas"
   ]
  },
  {
   "cell_type": "code",
   "execution_count": null,
   "metadata": {},
   "outputs": [],
   "source": [
    "# Creamos la lista planets y la mostramos\n",
    "planetas = [\"Mercurio\", \"Venus\", \"Tierra\", \"Marte\", \"Júpiter\", \"Saturno\", \"Urano\", \"Neptuno\"]\n",
    "print(\"Hay \", len(planetas), \" planetas\")\n",
    "\n",
    "# Agregamos a plutón y mostramos el último elemento\n",
    "planetas.append(\"Plutón\")\n",
    "print(\"Ahora hay \", len(planetas), \" planetas\")\n",
    "print(planetas[-1], \"es el último planeta\")\n",
    "\n"
   ]
  },
  {
   "cell_type": "code",
   "execution_count": null,
   "metadata": {},
   "outputs": [],
   "source": [
    "#Lista de planetas\n",
    "planetas = [\"Mercurio\", \"Venus\", \"Tierra\", \"Marte\", \"Júpiter\", \"Saturno\", \"Urano\", \"Neptuno\"]\n",
    "\n",
    "# Solicitamos el nombre de un planeta *Pista:  input()*\n",
    "usuario_planeta = input('Por favor ingresa el nombre de un planeta (con mayúscula inicial)')\n",
    "\n",
    "# Busca el planeta en la lista\n",
    "planeta_index = planetas.index(usuario_planeta)\n",
    "\n",
    "# Muestra los planetas más cercanos al sol\n",
    "print('Hay planetas más cercanos que ' + usuario_planeta)\n",
    "print(planetas[0:planeta_index])\n",
    "\n",
    "# Muestra los planetas más lejanos al sol\n",
    "print('Hay planetas más lejanos que ' + usuario_planeta)\n",
    "print(planetas[planeta_index + 1:])"
   ]
  }
 ],
 "metadata": {
  "interpreter": {
   "hash": "a48ef4588860d3d410a4961e4cc8aa9a88362f948f9b7d2a29a238d5a71f4012"
  },
  "kernelspec": {
   "display_name": "Python 3.10.2 64-bit (windows store)",
   "language": "python",
   "name": "python3"
  },
  "language_info": {
   "codemirror_mode": {
    "name": "ipython",
    "version": 3
   },
   "file_extension": ".py",
   "mimetype": "text/x-python",
   "name": "python",
   "nbconvert_exporter": "python",
   "pygments_lexer": "ipython3",
   "version": "3.10.2"
  },
  "orig_nbformat": 4
 },
 "nbformat": 4,
 "nbformat_minor": 2
}
