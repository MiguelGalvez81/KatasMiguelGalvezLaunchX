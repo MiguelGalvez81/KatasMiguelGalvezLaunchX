{
 "cells": [
  {
   "cell_type": "markdown",
   "metadata": {},
   "source": [
    "# Operadores aritméticos"
   ]
  },
  {
   "cell_type": "code",
   "execution_count": 11,
   "metadata": {},
   "outputs": [
    {
     "name": "stdout",
     "output_type": "stream",
     "text": [
      "Distancia en km: -628949330\n",
      "Distancia en millas: -390577533.93\n"
     ]
    }
   ],
   "source": [
    "planeta_1 = 149597870\n",
    "planeta_2 = 778547200\n",
    "\n",
    "distancia_km = planeta_1 - planeta_2\n",
    "print(\"Distancia en km: \" + str(distancia_km))\n",
    "\n",
    "distancia_mi = distancia_km * 0.621\n",
    "print(\"Distancia en millas: \" + str(distancia_mi))"
   ]
  },
  {
   "cell_type": "code",
   "execution_count": 10,
   "metadata": {},
   "outputs": [
    {
     "name": "stdout",
     "output_type": "stream",
     "text": [
      "Distancia en km: 200\n",
      "Distancia en millas: 124.2\n"
     ]
    }
   ],
   "source": [
    "# Almacenar las entradas del usuario\n",
    "planeta_1 = input('Introduzca la distancia del sol al primer planeta en Km')\n",
    "planeta_2 = input('Introduzca la distancia desde el sol al segundo planeta en Km')\n",
    "\n",
    "# Convierte las cadenas de ambos planetas a números enteros\n",
    "planeta_1 = int(planeta_1)\n",
    "planeta_2 = int(planeta_2)\n",
    "\n",
    "distancia_km = abs(planeta_1 - planeta_2)\n",
    "print(\"Distancia en km: \" + str(distancia_km))\n",
    "\n",
    "# Convertir de KM a Millas\n",
    "distancia_mi = abs(distancia_km * 0.621)\n",
    "print(\"Distancia en millas: \" + str(distancia_mi))"
   ]
  }
 ],
 "metadata": {
  "interpreter": {
   "hash": "a48ef4588860d3d410a4961e4cc8aa9a88362f948f9b7d2a29a238d5a71f4012"
  },
  "kernelspec": {
   "display_name": "Python 3.10.2 64-bit (windows store)",
   "language": "python",
   "name": "python3"
  },
  "language_info": {
   "codemirror_mode": {
    "name": "ipython",
    "version": 3
   },
   "file_extension": ".py",
   "mimetype": "text/x-python",
   "name": "python",
   "nbconvert_exporter": "python",
   "pygments_lexer": "ipython3",
   "version": "3.10.2"
  },
  "orig_nbformat": 4
 },
 "nbformat": 4,
 "nbformat_minor": 2
}
